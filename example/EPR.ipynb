{
 "cells": [
  {
   "cell_type": "code",
   "execution_count": 1,
   "metadata": {
    "pycharm": {
     "name": "#%%\n"
    }
   },
   "outputs": [
    {
     "name": "stderr",
     "output_type": "stream",
     "text": [
      "C:\\Users\\hong\\AppData\\Local\\Temp\\ipykernel_1808\\1276852513.py:2: UserWarning: Shapely 2.0 is installed, but because PyGEOS is also installed, GeoPandas will still use PyGEOS by default for now. To force to use and test Shapely 2.0, you have to set the environment variable USE_PYGEOS=0. You can do this before starting the Python process, or in your code before importing geopandas:\n",
      "\n",
      "import os\n",
      "os.environ['USE_PYGEOS'] = '0'\n",
      "import geopandas\n",
      "\n",
      "In a future release, GeoPandas will switch to using Shapely by default. If you are using PyGEOS directly (calling PyGEOS functions on geometries from GeoPandas), this will then stop working and you are encouraged to migrate from PyGEOS to Shapely 2.0 (https://shapely.readthedocs.io/en/latest/migration_pygeos.html).\n",
      "  import geopandas as gpd\n"
     ]
    }
   ],
   "source": [
    "import pandas as pd\n",
    "import geopandas as gpd\n",
    "from shapely import wkt\n",
    "import numpy as np\n",
    "import powerlaw\n",
    "from tqdm import tqdm\n",
    "import random\n",
    "\n",
    "from joblib import Parallel, delayed\n",
    "import contextlib\n",
    "import joblib"
   ]
  },
  {
   "cell_type": "code",
   "execution_count": 8,
   "metadata": {},
   "outputs": [
    {
     "data": {
      "text/plain": [
       "0.75"
      ]
     },
     "execution_count": 8,
     "metadata": {},
     "output_type": "execute_result"
    }
   ],
   "source": [
    "from mobsim import Environment\n",
    "\n",
    "env = Environment(\"config.yml\")\n",
    "env.config[\"wait\"][\"mu\"]"
   ]
  },
  {
   "cell_type": "code",
   "execution_count": 8,
   "metadata": {},
   "outputs": [
    {
     "name": "stdout",
     "output_type": "stream",
     "text": [
      "{'wait': [{'mu': 0.75}, {'sigma': 1.49}], 'jump': [{'mu': 7.72}, {'sigma': 2.38}], 'location': None, 'user': None}\n"
     ]
    },
    {
     "data": {
      "text/plain": [
       "{'wait': [{'mu': 0.75}, {'sigma': 1.49}],\n",
       " 'jump': [{'mu': 7.72}, {'sigma': 2.38}],\n",
       " 'location': None,\n",
       " 'user': None}"
      ]
     },
     "execution_count": 8,
     "metadata": {},
     "output_type": "execute_result"
    }
   ],
   "source": []
  },
  {
   "cell_type": "code",
   "execution_count": 2,
   "metadata": {
    "pycharm": {
     "name": "#%%\n"
    }
   },
   "outputs": [],
   "source": [
    "# home locs is the starting point of each user's location generation\n",
    "home_locs_df = pd.read_csv(\"data/home_locs.csv\")\n",
    "\n",
    "# all_locs is all the possible locations\n",
    "all_locs = pd.read_csv(\"data/locs.csv\", index_col=\"id\")\n",
    "\n",
    "# for now we do not consider the user_ids and the extent\n",
    "all_locs = all_locs[~all_locs.index.duplicated(keep='first')]\n",
    "all_locs = all_locs[[\"center\"]]\n",
    "all_locs[\"center\"] = all_locs[\"center\"].apply(wkt.loads)\n",
    "all_locs = gpd.GeoDataFrame(all_locs, geometry=\"center\", crs=\"EPSG:4326\")"
   ]
  },
  {
   "cell_type": "code",
   "execution_count": 3,
   "metadata": {
    "pycharm": {
     "name": "#%%\n"
    }
   },
   "outputs": [
    {
     "data": {
      "text/plain": [
       "(35858, 1)"
      ]
     },
     "execution_count": 3,
     "metadata": {},
     "output_type": "execute_result"
    }
   ],
   "source": [
    "all_locs.shape"
   ]
  },
  {
   "cell_type": "code",
   "execution_count": 4,
   "metadata": {
    "pycharm": {
     "name": "#%%\n"
    }
   },
   "outputs": [],
   "source": [
    "# the projection of Switzerland: for accurately determine the distance between two locations\n",
    "all_locs = all_locs.to_crs(\"EPSG:2056\")"
   ]
  },
  {
   "cell_type": "code",
   "execution_count": 5,
   "metadata": {
    "pycharm": {
     "name": "#%%\n"
    }
   },
   "outputs": [],
   "source": [
    "# pairwise distance\n",
    "from scipy.spatial.distance import pdist, squareform\n",
    "\n",
    "coord_list = [[x,y] for x,y in zip(all_locs['center'].x , all_locs['center'].y)]\n",
    "Y = pdist(coord_list, 'euclidean')\n",
    "pair_distance = squareform(Y)"
   ]
  },
  {
   "cell_type": "markdown",
   "metadata": {
    "pycharm": {
     "name": "#%% md\n"
    }
   },
   "source": [
    "## The EPR location sequence generation\n",
    "\n",
    "The core of the generation procedure is in Figure 2 in [1]. The exploration probability $P_{new} = \\rho S ^{-\\gamma}$ determines the probability of \"jumping\" into a new location at each step, where S is the number of locations already visited, and $\\rho$ and $\\gamma$ are two parameters empirically learned from data by fitting a log-linear model. At each step, the jump distance to the next location and the staying duration in that location are drawn from the jump length distribution and the wait time distribution, respectively, which parameters are empirically obtained from data. Literature reported different best-fit distributions: many reported power-law or truncated power-law as the best fit, yet a recent study shows log-normal distribution is the best fit if considering various spatial and temporal scales [2]. In short, the generation process is determined on four distributions:\n",
    "\n",
    "- distribution of $\\rho$ and $\\gamma$ to determine the exploration tendency of the agent\n",
    "- distribution of jump length to determine the distance travelled\n",
    "- distribution of wait time to determine the time spent on an activity\n",
    "\n",
    "Note that we draw only one pair of $\\rho$ and $\\gamma$ for each agent, but jump length and wait time are sampled at every (exploration) step. Also note that here we fit jump length and wait time for the dataset, which means no user info is included in the random sampling process (that is, every user has the same probability of travelling a given distance). \n",
    "\n",
    "We consider the following design choices in the generation process:\n",
    "\n",
    "- Agent initialization: each agent is initialized to the location they most frequently visited in the empirical data. We select 93 users from our empirical dataset.\n",
    "- Location sampling: we use the location set obtained from empirical data, generated with sliding window and DBSCAN method from raw GPS tracking signals (see [trackintel](https://github.com/mie-lab/trackintel)). In each exploration step, the location closest to the jump distance from the current location is selected (no directional preferences). The location set includes 35,858 locations within Switzerland.\n",
    "\n",
    "\n",
    "\n",
    "**[1] Song, C., T. Koren, P. Wang and A.-L. Barabási (2010) Modelling the scaling properties of human mobility, Nature Physics, 6 (10) 818–823.**\n",
    "\n",
    "**[2] Alessandretti, L., P. Sapiezynski, S. Lehmann and A. Baronchelli (2017) Multi-scale spatio-temporal analysis of human mobility, PLOS ONE, 12 (2) e0171686.**"
   ]
  },
  {
   "cell_type": "markdown",
   "metadata": {
    "pycharm": {
     "name": "#%% md\n"
    }
   },
   "source": [
    "### Intervention variables\n",
    "\n",
    "- jump length distribution: we can intervene on the jump length, e.g., user only able to travel up to 1/5/10 km for each step. \n",
    "- distribution of $\\rho$ and $\\gamma$: especially $\\gamma$ controls the exploration tendency of the user. For example, we can choose to only include active exploring users.\n",
    "- Currently no noise variable is added to each sampled value, we can add a small independent gaussian distributed noise to e.g., jump length distribution, or $\\rho$ and $\\gamma$ distribution, and control the noise strength."
   ]
  },
  {
   "cell_type": "code",
   "execution_count": 6,
   "metadata": {
    "pycharm": {
     "name": "#%%\n"
    }
   },
   "outputs": [],
   "source": [
    "\n",
    "def get_initUser(home_locs):\n",
    "    \"\"\"Randomly choose one user from the emperical dataset.\n",
    "    \n",
    "    Only useful in combination with deterministic get_initLoc()\n",
    "    \"\"\"\n",
    "    return np.random.choice(home_locs[\"user_id\"].unique())\n",
    "\n",
    "def get_waitTimeP():\n",
    "    \"\"\"This should be wait time (duration) distribution. Emperically determined from data. \n",
    "    \n",
    "    The truncated power-law distribution is a better fit than log-normal.\"\"\"\n",
    "    p = powerlaw.Truncated_Power_Law()\n",
    "    \n",
    "    # the parameters\n",
    "    p.parameters([1.000,0.0532])\n",
    "    \n",
    "    # the transform to 2010 paper's definition\n",
    "    # print(\"beta\", p.parameter1 - 1)\n",
    "    # print(\"gamma\", 1/p.parameter2)\n",
    "\n",
    "    return p.generate_random(n=1)[0]\n",
    "\n",
    "def get_distanceP():\n",
    "    \"\"\"Jump length distribution. Emperically determined from data. \n",
    "    \n",
    "    The log-normal distribution is a better fit than power-law and exp.\"\"\"\n",
    "    # parameters from the learned log-normal: 7.723, 2.377\n",
    "    mu, sigma = 7.723, 2.377\n",
    "    \n",
    "    return np.random.lognormal(mu, sigma, 1)[0]\n",
    "\n",
    "def get_rhoP():\n",
    "    \"\"\"This is learned from the emperical dataset\"\"\"\n",
    "    mu, sigma = 0.6351256593942041, 0.157804729577191\n",
    "    return np.random.normal(mu, sigma, 1)[0]\n",
    "\n",
    "def get_gammaP():\n",
    "    \"\"\"This is learned from the emperical dataset\"\"\"\n",
    "    mu, sigma = 0.18133625174674975, 0.06947839549426152\n",
    "    return np.random.normal(mu, sigma, 1)[0]\n",
    "    # return 0.05\n",
    "\n",
    "def get_initLoc(home_locs, user):\n",
    "    \"\"\"The initialization step of the epr model.\n",
    "    \n",
    "    Currently we choose the top1 visted \"home\" location as the start. This is deterministic.\n",
    "    \n",
    "    potential problem:\n",
    "    1. as the initial location is the most important location, our synthesized dataset would not include much variety.\n",
    "    \n",
    "    Potential idea:\n",
    "    1. randomly choose one location from user's top5 visited location.\n",
    "    2. randomly choose one location from the location set\n",
    "    \n",
    "    Parameters\n",
    "    ----------\n",
    "    home_locs: the df that contains home_location and user pairs\n",
    "    user: the unique user id\n",
    "    \n",
    "    Returns\n",
    "    -------\n",
    "    the id of the home location of the user_id\n",
    "    \"\"\"\n",
    "    return home_locs.loc[home_locs[\"user_id\"] == user, \"location_id\"].values[0]\n",
    "\n",
    "def explore(curr_loc, pair_distance):\n",
    "    \"\"\"The exploration step of the epr model.\n",
    "    \n",
    "    1. get a jump distance from predefined jump length distribution.\n",
    "    2. calculate the distance between current location and all the other locations.\n",
    "    3. choose the location that is closest to the jump length.\n",
    "    \n",
    "    potential problem:\n",
    "    1. location set from emperical dataset: locations that do not exist in dataset will not appear in synthesized dataset.\n",
    "    2. all locations are regarded equal important for each individual: in the process of choosing a location, \n",
    "    we do not include emperical info of whether the user has visited the location \n",
    "    \n",
    "    Parameters\n",
    "    ----------\n",
    "    curr_loc: the current location that the user is standing\n",
    "    all_loc: df containing the info of all locations\n",
    "    \n",
    "    Returns\n",
    "    -------\n",
    "    the id of the selected location\n",
    "    \"\"\"\n",
    "    # the distance to be jumped\n",
    "    jump_distance = get_distanceP()\n",
    "    # print(\"Jump length:\", jump_distance)\n",
    "\n",
    "    # select the closest location after the jump\n",
    "    selected_loc = np.argsort(np.abs(pair_distance[curr_loc,:] - jump_distance))[0]\n",
    "    return selected_loc\n",
    "\n",
    "def recency(loc_ls):\n",
    "    top40_p = np.array([0.1554, 0.2678, 0.128 , 0.0936, 0.0637, 0.0427, 0.0287, 0.0216,\n",
    "       0.0178, 0.0145, 0.0117, 0.0107, 0.0098, 0.0092, 0.0081, 0.0079,\n",
    "       0.0068, 0.0068, 0.0064, 0.0059, 0.0055, 0.0052, 0.0053, 0.0048,\n",
    "       0.0049, 0.0052, 0.0046, 0.0044, 0.0047, 0.004 , 0.0039, 0.0041,\n",
    "       0.0037, 0.0035, 0.0038, 0.0035, 0.0032, 0.0034, 0.0027, 0.0027])\n",
    "    top40_p = top40_p/top40_p.sum()\n",
    "    \n",
    "    hist = 40 if len(loc_ls) > 40 else len(loc_ls)\n",
    "    idx = np.random.choice(a=hist, p=top40_p[:hist]/top40_p[:hist].sum())\n",
    "    return loc_ls[::-1][idx]\n",
    "\n",
    "def epr_model_individual(sequence_length=10):\n",
    "    \n",
    "    # get the user id\n",
    "    user = get_initUser(home_locs_df)\n",
    "\n",
    "    loc_ls = []\n",
    "    dur_ls = []\n",
    "    \n",
    "    # get the two exploration parameter\n",
    "    rho = get_rhoP()\n",
    "    gamma = get_gammaP()\n",
    "    # print(rho, gamma)\n",
    "    \n",
    "    # only for recency\n",
    "    alpha = 0.1\n",
    "    \n",
    "    # the generation process\n",
    "    for i in tqdm(range(sequence_length)):\n",
    "        \n",
    "        # get wait time from distribution - rather independent from other process\n",
    "        curr_dur = get_waitTimeP()\n",
    "        dur_ls.append(curr_dur)\n",
    "        \n",
    "        # init\n",
    "        if len(loc_ls) == 0:\n",
    "            next_loc = get_initLoc(home_locs_df, user)    \n",
    "        else: # or generate\n",
    "            # the prob. of exploring\n",
    "            if_explore = rho * len(np.unique(loc_ls)) ** (- gamma)\n",
    "            # print(if_explore)\n",
    "            \n",
    "            if np.random.rand() < if_explore:\n",
    "                # explore\n",
    "                curr_loc = loc_ls[-1]\n",
    "                next_loc = explore(curr_loc, pair_distance)\n",
    "            else:\n",
    "                \n",
    "                next_loc = loc_ls[np.random.randint(low=0, high=len(loc_ls))]\n",
    "                \n",
    "                # recency\n",
    "                # if np.random.rand() < alpha:\n",
    "                #     # return, randomly choose one existing location\n",
    "                #     next_loc = loc_ls[np.random.randint(low=0, high=len(loc_ls))]\n",
    "                # else:\n",
    "                #     # recency\n",
    "                #     next_loc = recency(loc_ls)\n",
    "        \n",
    "        # print(next_loc)\n",
    "        loc_ls.append(next_loc)\n",
    "    \n",
    "    return loc_ls, dur_ls, user\n"
   ]
  },
  {
   "cell_type": "code",
   "execution_count": 7,
   "metadata": {
    "pycharm": {
     "name": "#%%\n"
    }
   },
   "outputs": [],
   "source": [
    "\n",
    "@contextlib.contextmanager\n",
    "def tqdm_joblib(tqdm_object):\n",
    "    \"\"\"Context manager to patch joblib to report into tqdm progress bar given as argument\"\"\"\n",
    "    class TqdmBatchCompletionCallback(joblib.parallel.BatchCompletionCallBack):\n",
    "        def __call__(self, *args, **kwargs):\n",
    "            tqdm_object.update(n=self.batch_size)\n",
    "            return super().__call__(*args, **kwargs)\n",
    "\n",
    "    old_batch_callback = joblib.parallel.BatchCompletionCallBack\n",
    "    joblib.parallel.BatchCompletionCallBack = TqdmBatchCompletionCallback\n",
    "    try:\n",
    "        yield tqdm_object\n",
    "    finally:\n",
    "        joblib.parallel.BatchCompletionCallBack = old_batch_callback\n",
    "        tqdm_object.close()\n",
    "\n",
    "\n",
    "def epr_model(population=10, sequence_length=10,n_jobs=-1):\n",
    "    with tqdm_joblib(tqdm(desc=\"My calculation\", total=population)) as _:\n",
    "        results = Parallel(n_jobs=n_jobs)(delayed(epr_model_individual)(sequence_length) for _ in range(population))\n",
    "    \n",
    "    syn_data = {}\n",
    "    for i in range(len(results)):\n",
    "        syn_data[i] = {}\n",
    "        syn_data[i][\"user\"] = results[i][2]\n",
    "        syn_data[i][\"location_seq\"] = results[i][0]\n",
    "        syn_data[i][\"duration_seq\"] = results[i][1]\n",
    "    \n",
    "\n",
    "    return syn_data"
   ]
  },
  {
   "cell_type": "markdown",
   "metadata": {
    "pycharm": {
     "name": "#%% md\n"
    }
   },
   "source": [
    "Statistics of location visits from SBB GC dataset:\n",
    "\n",
    "| Measure      | Count |\n",
    "| ----------- | ----------- |\n",
    "|count |     93.000000\n",
    "|mean  |   1233.483871\n",
    "|std   |    369.446402\n",
    "|min   |    495.000000\n",
    "|25%   |    991.000000\n",
    "|50%   |   1193.000000\n",
    "|75%   |   1389.000000\n",
    "|max   |   2629.000000\n",
    "\n",
    "This can be used as an estimate to choose *population* and *sequence_length*."
   ]
  },
  {
   "cell_type": "code",
   "execution_count": 8,
   "metadata": {
    "pycharm": {
     "name": "#%%\n"
    }
   },
   "outputs": [
    {
     "name": "stderr",
     "output_type": "stream",
     "text": [
      "My calculation: 100%|██████████| 100/100 [00:22<00:00,  4.51it/s]\n"
     ]
    }
   ],
   "source": [
    "np.random.seed(0)\n",
    "random.seed(0)\n",
    "syn_data = epr_model(population=100, sequence_length=3000, n_jobs=-1)"
   ]
  },
  {
   "cell_type": "markdown",
   "metadata": {
    "pycharm": {
     "name": "#%% md\n"
    }
   },
   "source": [
    "syn_data is a list that contains the generated location and duration sequences."
   ]
  },
  {
   "cell_type": "markdown",
   "metadata": {
    "pycharm": {
     "name": "#%% md\n"
    }
   },
   "source": [
    "## Validation"
   ]
  },
  {
   "cell_type": "code",
   "execution_count": 9,
   "metadata": {
    "pycharm": {
     "name": "#%%\n"
    }
   },
   "outputs": [
    {
     "data": {
      "text/plain": [
       "[1119, 11901, 26171, 26171, 2750, 1255, 20760, 1255, 20760, 20946]"
      ]
     },
     "execution_count": 9,
     "metadata": {},
     "output_type": "execute_result"
    }
   ],
   "source": [
    "syn_data[0][\"location_seq\"][:10]"
   ]
  },
  {
   "cell_type": "code",
   "execution_count": 10,
   "metadata": {
    "pycharm": {
     "name": "#%%\n"
    }
   },
   "outputs": [
    {
     "data": {
      "text/plain": [
       "[4.153707773489646,\n",
       " 9.89105667137689,\n",
       " 5.260514163421457,\n",
       " 6.664297848533991,\n",
       " 11.385888043392411,\n",
       " 7.823326214833328,\n",
       " 4.5736196817615244,\n",
       " 8.013421000516429,\n",
       " 2.8963460173986975,\n",
       " 3.167015272646394]"
      ]
     },
     "execution_count": 10,
     "metadata": {},
     "output_type": "execute_result"
    }
   ],
   "source": [
    "syn_data[0][\"duration_seq\"][:10]"
   ]
  },
  {
   "cell_type": "code",
   "execution_count": 11,
   "metadata": {
    "pycharm": {
     "name": "#%%\n"
    }
   },
   "outputs": [
    {
     "data": {
      "text/plain": [
       "1602"
      ]
     },
     "execution_count": 11,
     "metadata": {},
     "output_type": "execute_result"
    }
   ],
   "source": [
    "syn_data[0][\"user\"]"
   ]
  },
  {
   "cell_type": "markdown",
   "metadata": {
    "pycharm": {
     "name": "#%% md\n"
    }
   },
   "source": [
    "### Convert to gpd"
   ]
  },
  {
   "cell_type": "code",
   "execution_count": 12,
   "metadata": {
    "pycharm": {
     "name": "#%%\n"
    }
   },
   "outputs": [],
   "source": [
    "def get_user_df(user_sequence, all_locs):\n",
    "    user_sequence_df = pd.DataFrame(user_sequence[\"location_seq\"], columns=[\"id\"])\n",
    "    user_sequence_df[\"duration\"] =  user_sequence[\"duration_seq\"]\n",
    "    user_sequence_df[\"ori_user_id\"] = user_sequence[\"user\"]\n",
    "    geom_df = user_sequence_df.reset_index().merge(all_locs.reset_index(), on=\"id\",sort=False).sort_values(by=\"index\").reset_index(drop=True).drop(columns=\"index\")\n",
    "    return geom_df\n",
    "\n",
    "\n",
    "all_ls = []\n",
    "for i in range(len(syn_data)):\n",
    "    user_df = get_user_df(syn_data[i], all_locs)\n",
    "    user_df[\"user_id\"] = i\n",
    "    all_ls.append(user_df)\n",
    "\n",
    "all_df = pd.concat(all_ls).reset_index()"
   ]
  },
  {
   "cell_type": "code",
   "execution_count": 13,
   "metadata": {
    "pycharm": {
     "name": "#%%\n"
    }
   },
   "outputs": [],
   "source": [
    "all_gdf = gpd.GeoDataFrame(all_df, geometry=\"center\", crs=\"EPSG:2056\")\n",
    "all_gdf = all_gdf.to_crs(\"EPSG:4326\")"
   ]
  },
  {
   "cell_type": "markdown",
   "metadata": {
    "pycharm": {
     "name": "#%% md\n"
    }
   },
   "source": [
    "### Save as shp"
   ]
  },
  {
   "cell_type": "code",
   "execution_count": 14,
   "metadata": {
    "pycharm": {
     "name": "#%%\n"
    }
   },
   "outputs": [
    {
     "name": "stderr",
     "output_type": "stream",
     "text": [
      "c:\\ProgramData\\Anaconda3\\envs\\hai\\lib\\site-packages\\geopandas\\io\\file.py:362: FutureWarning: pandas.Int64Index is deprecated and will be removed from pandas in a future version. Use pandas.Index with the appropriate dtype instead.\n",
      "  pd.Int64Index,\n",
      "C:\\Users\\hong\\AppData\\Local\\Temp\\ipykernel_45576\\3846031749.py:1: UserWarning: Column names longer than 10 characters will be truncated when saved to ESRI Shapefile.\n",
      "  all_gdf.to_file(\"data/out/generated_locs.shp\")\n"
     ]
    }
   ],
   "source": [
    "all_gdf.to_file(\"data/out/generated_locs.shp\")\n",
    "all_gdf.to_csv(\"data/out/generated_locs.csv\", index=False)"
   ]
  },
  {
   "cell_type": "markdown",
   "metadata": {
    "pycharm": {
     "name": "#%% md\n"
    }
   },
   "source": [
    "### Location visitation"
   ]
  },
  {
   "cell_type": "code",
   "execution_count": 25,
   "metadata": {
    "pycharm": {
     "name": "#%%\n"
    }
   },
   "outputs": [],
   "source": [
    "def getLocFreq(locs):\n",
    "    freq = locs.groupby(['user_id','id'], as_index=False).size()\n",
    "    freq['visitRank'] = freq.groupby('user_id')['size'].rank(ascending=False, method='first')\n",
    "    PLoc = freq.groupby(\"visitRank\")['size'].mean().values\n",
    "    PLoc = PLoc/PLoc.sum()\n",
    "#     PLoc = PLoc[PLoc!=PLoc.min()]\n",
    "    \n",
    "    return PLoc\n",
    "\n",
    "# Location frequency for both SBB and MOBIS dataset\n",
    "loc_S = getLocFreq(all_gdf)"
   ]
  },
  {
   "cell_type": "code",
   "execution_count": 26,
   "metadata": {
    "pycharm": {
     "name": "#%%\n"
    }
   },
   "outputs": [
    {
     "data": {
      "image/png": "[encoded data removed]",
      "text/plain": [
       "<Figure size 576x360 with 1 Axes>"
      ]
     },
     "metadata": {
      "needs_background": "light"
     },
     "output_type": "display_data"
    }
   ],
   "source": [
    "import matplotlib.pyplot as plt\n",
    "\n",
    "plt.figure(figsize=(8,5))\n",
    "\n",
    "\n",
    "n = np.arange(len(loc_S)) + 1\n",
    "plt.plot(n, loc_S, label='Synthesized locations')\n",
    "\n",
    "\n",
    "\n",
    "\n",
    "plt.plot(n,np.power(n,-1.0)/4, '--', label=\"$f_k\\sim k^{-1}$\", color = 'k')\n",
    "\n",
    "plt.ylabel(\"$f_k$\",fontsize = 16)\n",
    "plt.xlabel(\"$k$\",fontsize = 16)\n",
    "plt.yscale('log')\n",
    "plt.xscale('log')\n",
    "\n",
    "plt.legend(prop={'size': 13})\n",
    "\n",
    "\n",
    "# plt.savefig(\"data/out/fk_locs.png\", dpi=600, bbox_inches='tight')\n",
    "\n",
    "plt.show()"
   ]
  },
  {
   "cell_type": "markdown",
   "metadata": {
    "pycharm": {
     "name": "#%% md\n"
    }
   },
   "source": [
    "### Jump length"
   ]
  },
  {
   "cell_type": "code",
   "execution_count": 19,
   "metadata": {
    "pycharm": {
     "name": "#%%\n"
    }
   },
   "outputs": [],
   "source": [
    "from trackintel.geogr.point_distances import  haversine_dist\n",
    "\n",
    "def get_jump_length(gdf):\n",
    "    geom_arr = gdf.geometry.values\n",
    "    \n",
    "    res_ls = []\n",
    "    for i in range(1, len(geom_arr)):\n",
    "        res_ls.append(haversine_dist(geom_arr[i-1].x, geom_arr[i-1].y, geom_arr[i].x, geom_arr[i].y)[0])\n",
    "    return res_ls\n",
    "\n",
    "jump_length = all_gdf.groupby(\"user_id\").apply(get_jump_length)\n",
    "flat_jump_length = [item for sublist in jump_length.to_list() for item in sublist]"
   ]
  },
  {
   "cell_type": "code",
   "execution_count": 20,
   "metadata": {
    "pycharm": {
     "name": "#%%\n"
    }
   },
   "outputs": [
    {
     "name": "stdout",
     "output_type": "stream",
     "text": [
      "343521.8788981701 0.0\n"
     ]
    }
   ],
   "source": [
    "print(np.max(flat_jump_length), np.min(flat_jump_length))\n",
    "\n",
    "import powerlaw\n",
    "\n",
    "jump_length_m = np.array(flat_jump_length)\n",
    "\n",
    "# R, p = results.distribution_compare('power_law', 'lognormal')\n",
    "# only select jump length longer than 5 meter\n",
    "jump_length_m = jump_length_m[jump_length_m>5]"
   ]
  },
  {
   "cell_type": "code",
   "execution_count": 21,
   "metadata": {
    "pycharm": {
     "name": "#%%\n"
    }
   },
   "outputs": [
    {
     "name": "stderr",
     "output_type": "stream",
     "text": [
      "c:\\ProgramData\\Anaconda3\\envs\\hai\\lib\\site-packages\\powerlaw.py:699: RuntimeWarning: invalid value encountered in true_divide\n",
      "  (CDF_diff**2) /\n"
     ]
    },
    {
     "name": "stdout",
     "output_type": "stream",
     "text": [
      "{'truncated_power_law': 0.0, 'power_law': 0.0, 'lognormal': 1.0}\n",
      "16.93311493458873 None\n",
      "9.515803066546798 2.2033698066627987\n"
     ]
    }
   ],
   "source": [
    "def getAIC(fit, empr):\n",
    "    aics = []\n",
    "\n",
    "    aics.append(-2*np.sum(fit.truncated_power_law.loglikelihoods(empr))+4)\n",
    "    aics.append(-2*np.sum(fit.power_law.loglikelihoods(empr))+2)\n",
    "    aics.append(-2*np.sum(fit.lognormal.loglikelihoods(empr))+4)\n",
    "    \n",
    "    aics = aics-np.min(aics)\n",
    "    \n",
    "    down = np.sum([np.exp(-aic/2) for aic in aics])    \n",
    "        \n",
    "    res = {}\n",
    "    res['truncated_power_law'] = np.exp(-aics[0]/2)/down\n",
    "    res['power_law'] = np.exp(-aics[1]/2)/down\n",
    "    res['lognormal'] = np.exp(-aics[2]/2)/down\n",
    "\n",
    "    return res\n",
    "\n",
    "fit = powerlaw.Fit(jump_length_m, xmin=jump_length_m.min(), xmin_distribution='lognormal')\n",
    "print(getAIC(fit, jump_length_m))\n",
    "\n",
    "print(fit.xmin, fit.xmax)\n",
    "print(fit.lognormal.parameter1, fit.lognormal.parameter2)"
   ]
  },
  {
   "cell_type": "code",
   "execution_count": 22,
   "metadata": {
    "pycharm": {
     "name": "#%%\n"
    }
   },
   "outputs": [
    {
     "data": {
      "image/png": "[encoded data removed]",
      "text/plain": [
       "<Figure size 576x360 with 1 Axes>"
      ]
     },
     "metadata": {
      "needs_background": "light"
     },
     "output_type": "display_data"
    }
   ],
   "source": [
    "plt.figure(figsize=(8,5))\n",
    "\n",
    "powerlaw.plot_pdf(jump_length_m, label='Synthetic data')\n",
    "\n",
    "# fit.power_law.plot_pdf(linestyle = '--', label='powerlaw fit')\n",
    "# fit.truncated_power_law.plot_pdf(linestyle = '--', label='truncated power law')\n",
    "fit.lognormal.plot_pdf(linestyle = '--', label='lognormal fit')\n",
    "\n",
    "plt.legend(prop={'size': 13})\n",
    "\n",
    "plt.xlabel('$\\Delta r\\,(m)$', fontsize = 16)\n",
    "plt.ylabel('$P(\\Delta r)$', fontsize = 16)\n",
    "\n",
    "plt.savefig(\"data/out/jump.png\", dpi=600, bbox_inches='tight')\n",
    "\n",
    "plt.show()"
   ]
  },
  {
   "cell_type": "markdown",
   "metadata": {
    "pycharm": {
     "name": "#%% md\n"
    }
   },
   "source": [
    "### Wait time"
   ]
  },
  {
   "cell_type": "code",
   "execution_count": 23,
   "metadata": {
    "pycharm": {
     "name": "#%%\n"
    }
   },
   "outputs": [],
   "source": [
    "\n",
    "duration_hour = all_gdf[\"duration\"].values\n",
    "duration_hour = duration_hour[duration_hour>0.5]"
   ]
  },
  {
   "cell_type": "code",
   "execution_count": 24,
   "metadata": {
    "pycharm": {
     "name": "#%%\n"
    }
   },
   "outputs": [
    {
     "name": "stdout",
     "output_type": "stream",
     "text": [
      "222.6408030372782 1.0000009354379096\n"
     ]
    }
   ],
   "source": [
    "print(np.max(duration_hour), np.min(duration_hour))"
   ]
  },
  {
   "cell_type": "code",
   "execution_count": 25,
   "metadata": {
    "pycharm": {
     "name": "#%%\n"
    }
   },
   "outputs": [
    {
     "name": "stderr",
     "output_type": "stream",
     "text": [
      "c:\\ProgramData\\Anaconda3\\envs\\hai\\lib\\site-packages\\powerlaw.py:699: RuntimeWarning: invalid value encountered in true_divide\n",
      "  (CDF_diff**2) /\n"
     ]
    },
    {
     "name": "stdout",
     "output_type": "stream",
     "text": [
      "{'truncated_power_law': 1.0, 'power_law': 0.0, 'lognormal': 0.0}\n",
      "1.0000009354379096 None\n",
      "0.8950711340314201 1.3465611942049298\n",
      "1.0007353811759991 0.053146563762164784\n"
     ]
    }
   ],
   "source": [
    "fit = powerlaw.Fit(duration_hour, xmin=duration_hour.min(), xmin_distribution='lognormal')\n",
    "print(getAIC(fit, duration_hour))\n",
    "\n",
    "print(fit.xmin, fit.xmax)\n",
    "print(fit.lognormal.parameter1, fit.lognormal.parameter2)\n",
    "print(fit.truncated_power_law.parameter1, fit.truncated_power_law.parameter2)"
   ]
  },
  {
   "cell_type": "code",
   "execution_count": 26,
   "metadata": {
    "pycharm": {
     "name": "#%%\n"
    }
   },
   "outputs": [
    {
     "data": {
      "image/png": "[encoded data removed]",
      "text/plain": [
       "<Figure size 576x360 with 1 Axes>"
      ]
     },
     "metadata": {
      "needs_background": "light"
     },
     "output_type": "display_data"
    },
    {
     "ename": "",
     "evalue": "",
     "output_type": "error",
     "traceback": [
      "\u001b[1;31mThe Kernel crashed while executing code in the the current cell or a previous cell. Please review the code in the cell(s) to identify a possible cause of the failure. Click <a href='https://aka.ms/vscodeJupyterKernelCrash'>here</a> for more info. View Jupyter <a href='command:jupyter.viewOutput'>log</a> for further details."
     ]
    }
   ],
   "source": [
    "plt.figure(figsize=(8,5))\n",
    "\n",
    "powerlaw.plot_pdf(duration_hour, label='Synthetic data')\n",
    "\n",
    "# fit.power_law.plot_pdf(linestyle = '--', label='powerlaw fit')\n",
    "fit.truncated_power_law.plot_pdf(linestyle = '--', label='Truncated power law')\n",
    "# fit.lognormal.plot_pdf(linestyle = '--', label='lognormal fit')\n",
    "\n",
    "plt.legend(prop={'size': 13})\n",
    "\n",
    "plt.xlabel('$\\Delta t\\,(hour)$', fontsize = 16)\n",
    "plt.ylabel('$P(\\Delta t)$', fontsize = 16)\n",
    "\n",
    "plt.savefig(\"data/out/wait.png\", dpi=600, bbox_inches='tight')\n",
    "plt.show()"
   ]
  },
  {
   "cell_type": "code",
   "execution_count": null,
   "metadata": {
    "pycharm": {
     "name": "#%%\n"
    }
   },
   "outputs": [],
   "source": []
  }
 ],
 "metadata": {
  "kernelspec": {
   "display_name": "Python 3.10.12 ('mobsim')",
   "language": "python",
   "name": "python3"
  },
  "language_info": {
   "codemirror_mode": {
    "name": "ipython",
    "version": 3
   },
   "file_extension": ".py",
   "mimetype": "text/x-python",
   "name": "python",
   "nbconvert_exporter": "python",
   "pygments_lexer": "ipython3",
   "version": "3.10.12"
  },
  "vscode": {
   "interpreter": {
    "hash": "bf0a8b6a47693731b1714999faeb0fe67d7f5e85e880c7863ede568f44aae016"
   }
  }
 },
 "nbformat": 4,
 "nbformat_minor": 2
}

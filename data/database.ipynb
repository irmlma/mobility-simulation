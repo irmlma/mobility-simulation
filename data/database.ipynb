{
 "cells": [
  {
   "cell_type": "code",
   "execution_count": null,
   "metadata": {},
   "outputs": [],
   "source": [
    "import numpy as np\n",
    "import os\n",
    "import geopandas as gpd\n",
    "import pandas as pd\n",
    "\n",
    "from shapely import wkt\n",
    "\n",
    "from sklearn.preprocessing import OrdinalEncoder\n",
    "\n",
    "import psycopg2\n",
    "from psycopg2.extensions import AsIs, register_adapter\n",
    "import sqlalchemy\n",
    "from sqlalchemy import text\n",
    "\n",
    "register_adapter(np.int64, AsIs)"
   ]
  },
  {
   "cell_type": "code",
   "execution_count": null,
   "metadata": {},
   "outputs": [],
   "source": [
    "import json\n",
    "from easydict import EasyDict as edict\n",
    "\n",
    "DBLOGIN_FILE = os.path.join(\"..\", \"credentials.json\")\n",
    "with open(DBLOGIN_FILE) as json_file:\n",
    "    CONFIG = json.load(json_file)\n",
    "\n",
    "config = edict(CONFIG)"
   ]
  },
  {
   "cell_type": "markdown",
   "metadata": {},
   "source": [
    "# Define tables"
   ]
  },
  {
   "cell_type": "markdown",
   "metadata": {},
   "source": [
    "## Simulated data"
   ]
  },
  {
   "cell_type": "code",
   "execution_count": null,
   "metadata": {},
   "outputs": [],
   "source": [
    "db_credentials = {\n",
    "    \"user\": config.save_user,\n",
    "    \"password\": config.password,\n",
    "    \"host\": config.host,\n",
    "    \"port\": config.port,\n",
    "    \"dbname\": config.database\n",
    "}\n",
    "\n",
    "# establish database connection\n",
    "conn = psycopg2.connect(**db_credentials)\n",
    "cur = conn.cursor()"
   ]
  },
  {
   "cell_type": "code",
   "execution_count": null,
   "metadata": {},
   "outputs": [],
   "source": [
    "create_table_query = \"CREATE TABLE IF NOT EXISTS simulated.loc_seq (location_id INTEGER, user_id INTEGER)\"\n",
    "cur.execute(create_table_query)\n",
    "\n",
    "# submit\n",
    "conn.commit()"
   ]
  },
  {
   "cell_type": "code",
   "execution_count": null,
   "metadata": {},
   "outputs": [],
   "source": [
    "create_table_query = \"CREATE TABLE IF NOT EXISTS simulated.locs (location_id INTEGER)\"\n",
    "cur.execute(create_table_query)\n",
    "\n",
    "add_geom_query = \"SELECT AddGeometryColumn('simulated', 'locs', 'geometry', 4326, 'POINT', 2)\"\n",
    "cur.execute(add_geom_query)\n",
    "\n",
    "# submit\n",
    "conn.commit()"
   ]
  },
  {
   "cell_type": "code",
   "execution_count": null,
   "metadata": {},
   "outputs": [],
   "source": [
    "# close connection\n",
    "conn.close()"
   ]
  },
  {
   "cell_type": "markdown",
   "metadata": {},
   "source": [
    "## Sensitive data"
   ]
  },
  {
   "cell_type": "code",
   "execution_count": null,
   "metadata": {},
   "outputs": [],
   "source": [
    "db_credentials = {\n",
    "    \"user\": config.sensitive_user,\n",
    "    \"password\": config.password,\n",
    "    \"host\": config.host,\n",
    "    \"port\": config.port,\n",
    "    \"dbname\": config.database\n",
    "}\n",
    "\n",
    "# establish database connection\n",
    "conn = psycopg2.connect(**db_credentials)\n",
    "cur = conn.cursor()"
   ]
  },
  {
   "cell_type": "code",
   "execution_count": null,
   "metadata": {},
   "outputs": [],
   "source": [
    "create_table_query = \"CREATE TABLE IF NOT EXISTS sensitive.loc_seq (location_id INTEGER, user_id INTEGER)\"\n",
    "cur.execute(create_table_query)\n",
    "\n",
    "# submit\n",
    "conn.commit()"
   ]
  },
  {
   "cell_type": "code",
   "execution_count": null,
   "metadata": {},
   "outputs": [],
   "source": [
    "create_table_query = \"CREATE TABLE IF NOT EXISTS sensitive.locs (location_id INTEGER)\"\n",
    "cur.execute(create_table_query)\n",
    "\n",
    "add_geom_query = \"SELECT AddGeometryColumn('sensitive', 'locs', 'geometry', 4326, 'POINT', 2)\"\n",
    "cur.execute(add_geom_query)\n",
    "\n",
    "# submit\n",
    "conn.commit()"
   ]
  },
  {
   "cell_type": "code",
   "execution_count": null,
   "metadata": {},
   "outputs": [],
   "source": [
    "# close connection\n",
    "conn.close()"
   ]
  },
  {
   "cell_type": "markdown",
   "metadata": {},
   "source": [
    "# Write data into database"
   ]
  },
  {
   "cell_type": "markdown",
   "metadata": {},
   "source": [
    "## Simulated data"
   ]
  },
  {
   "cell_type": "code",
   "execution_count": null,
   "metadata": {},
   "outputs": [],
   "source": [
    "engine_save = sqlalchemy.create_engine(f'postgresql://{config.save_user}:{config.password}@{config.host}:{config.port}/{config.database}')"
   ]
  },
  {
   "cell_type": "code",
   "execution_count": null,
   "metadata": {},
   "outputs": [],
   "source": [
    "loc_seq = pd.read_csv(\"input/loc_seq.csv\")\n",
    "with engine_save.connect() as conn:\n",
    "    loc_seq.to_sql(name=\"loc_seq\", con=conn, index=False, chunksize=500000, method=\"multi\", schema=\"simulated\", if_exists=\"replace\")"
   ]
  },
  {
   "cell_type": "code",
   "execution_count": null,
   "metadata": {},
   "outputs": [],
   "source": [
    "locs = pd.read_csv(\"input/locs.csv\")\n",
    "locs[\"geometry\"] = locs[\"geometry\"].apply(wkt.loads)\n",
    "locs = gpd.GeoDataFrame(locs, geometry=\"geometry\", crs=\"EPSG:4326\")\n",
    "\n",
    "with engine_save.connect() as conn:\n",
    "    locs.to_postgis(name=\"locs\", con=conn, index=False, chunksize=500000, schema=\"simulated\", if_exists=\"replace\")"
   ]
  },
  {
   "cell_type": "markdown",
   "metadata": {},
   "source": [
    "## Sensitive data"
   ]
  },
  {
   "cell_type": "code",
   "execution_count": null,
   "metadata": {},
   "outputs": [],
   "source": [
    "engine_sensitive = sqlalchemy.create_engine(f'postgresql://{config.sensitive_user}:{config.password}@{config.host}:{config.port}/{config.database}')\n",
    "print(bool(engine_sensitive))"
   ]
  },
  {
   "cell_type": "code",
   "execution_count": null,
   "metadata": {},
   "outputs": [],
   "source": [
    "loc_seq_sensitive = pd.read_csv(\"input/loc_seq_sensitive.csv\")\n",
    "\n",
    "loc_seq_sensitive.to_sql(name=\"loc_seq\", con = engine_sensitive, index=False, schema=\"sensitive\", if_exists=\"replace\")"
   ]
  },
  {
   "cell_type": "code",
   "execution_count": null,
   "metadata": {},
   "outputs": [],
   "source": [
    "locs = pd.read_csv(\"input/locs_sensitive.csv\")\n",
    "locs[\"geometry\"] = locs[\"geometry\"].apply(wkt.loads)\n",
    "locs = gpd.GeoDataFrame(locs, geometry=\"geometry\", crs=\"EPSG:4326\")\n",
    "\n",
    "\n",
    "locs.to_postgis(name=\"locs\", con=engine_sensitive, index=False, chunksize=500000, schema=\"sensitive\", if_exists=\"replace\")"
   ]
  },
  {
   "cell_type": "markdown",
   "metadata": {},
   "source": [
    "# Check reading"
   ]
  },
  {
   "cell_type": "markdown",
   "metadata": {},
   "source": [
    "## Simulated data"
   ]
  },
  {
   "cell_type": "code",
   "execution_count": null,
   "metadata": {},
   "outputs": [],
   "source": [
    "engine_save = sqlalchemy.create_engine(f'postgresql://{config.save_user}:{config.password}@{config.host}:{config.port}/{config.database}')\n",
    "\n",
    "with engine_save.connect() as conn:\n",
    "    print(gpd.read_postgis(text(\"SELECT * FROM simulated.locs\"), conn, geom_col=\"geometry\"))\n",
    "    print(pd.read_sql(text(\"SELECT * FROM simulated.loc_seq\"), conn))\n",
    "\n",
    "    # an error shall be raised\n",
    "    # print(pd.read_sql(text(\"SELECT * FROM real.loc_seq\"), conn))"
   ]
  },
  {
   "cell_type": "markdown",
   "metadata": {},
   "source": [
    "## Real data"
   ]
  },
  {
   "cell_type": "code",
   "execution_count": null,
   "metadata": {},
   "outputs": [],
   "source": [
    "engine_sensitive = sqlalchemy.create_engine(f'postgresql://{config.sensitive_user}:{config.password}@{config.host}:{config.port}/{config.database}')\n",
    "\n",
    "with engine_sensitive.connect() as conn:\n",
    "    print(gpd.read_postgis(text(\"SELECT * FROM sensitive.locs\"), conn, geom_col=\"geometry\"))\n",
    "    print(pd.read_sql(text(\"SELECT * FROM sensitive.loc_seq\"), conn))\n",
    "\n",
    "    # an error shall be raised\n",
    "    # print(pd.read_sql(text(\"SELECT * FROM simulated.loc_seq\"), conn))"
   ]
  },
  {
   "cell_type": "markdown",
   "metadata": {},
   "source": [
    "# Transform initial GC data into desired formats"
   ]
  },
  {
   "cell_type": "code",
   "execution_count": null,
   "metadata": {},
   "outputs": [],
   "source": [
    "loc_freq = pd.read_csv(\"input/minimal_pipeline/loc_freq.csv\")\n",
    "loc_freq = loc_freq.rename(columns={\"id\":\"location_id\", \"center\":\"geometry\"}).drop(columns=\"count\")\n",
    "\n",
    "loc_freq[\"geometry\"] = loc_freq[\"geometry\"].apply(wkt.loads)\n",
    "loc_freq = gpd.GeoDataFrame(loc_freq, geometry=\"geometry\", crs=\"EPSG:2056\")\n",
    "loc_freq = loc_freq.to_crs(\"EPSG:4326\")\n",
    "\n",
    "loc_freq.to_csv(\"input/locs_sensitive.csv\", index=False)"
   ]
  },
  {
   "cell_type": "code",
   "execution_count": null,
   "metadata": {},
   "outputs": [],
   "source": [
    "loc_seq = pd.read_csv(\"input/minimal_pipeline/loc_seq.csv\")\n",
    "\n",
    "enc = OrdinalEncoder(dtype=np.int64)\n",
    "loc_seq[\"user_id\"] = enc.fit_transform(loc_seq[\"user_id\"].values.reshape(-1, 1))\n",
    "\n",
    "loc_seq[[\"location_id\", \"user_id\"]].to_csv(\"input/loc_seq_sensitive.csv\", index=False)"
   ]
  }
 ],
 "metadata": {
  "kernelspec": {
   "display_name": "Python 3.9.16 ('hai')",
   "language": "python",
   "name": "python3"
  },
  "language_info": {
   "codemirror_mode": {
    "name": "ipython",
    "version": 3
   },
   "file_extension": ".py",
   "mimetype": "text/x-python",
   "name": "python",
   "nbconvert_exporter": "python",
   "pygments_lexer": "ipython3",
   "version": "3.9.16"
  },
  "orig_nbformat": 4,
  "vscode": {
   "interpreter": {
    "hash": "b9f32a3e5cf1a5a86c685405c00c53bfaa39fea9cd83ebb9d1be3b775878dc14"
   }
  }
 },
 "nbformat": 4,
 "nbformat_minor": 2
}
